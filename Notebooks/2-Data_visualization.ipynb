{
 "cells": [
  {
   "cell_type": "code",
   "execution_count": 12,
   "id": "a5aa55a2",
   "metadata": {},
   "outputs": [],
   "source": [
    "import pandas as pd\n",
    "import numpy as np\n",
    "from numpy import nan\n",
    "import re\n",
    "\n",
    "import seaborn as sns\n",
    "import matplotlib.pyplot as plt\n",
    "\n",
    "import os\n",
    "from dotenv import load_dotenv\n",
    "\n",
    "import requests"
   ]
  },
  {
   "cell_type": "code",
   "execution_count": 13,
   "id": "f99d98fe",
   "metadata": {},
   "outputs": [],
   "source": [
    "# Matplotlib inline para visualizar los gráficos de Matplotlib\n",
    "%matplotlib inline\n",
    "%config Inlinebackend.figure_format= 'retina'"
   ]
  },
  {
   "cell_type": "code",
   "execution_count": 14,
   "id": "241e1e78",
   "metadata": {},
   "outputs": [],
   "source": [
    "# Configuración para setear y que todas las fig de Seaborn salgan por defecto con este tamaño\n",
    "# Se puede especificar el tamaño de cada figura\n",
    "sns.set_context(\"poster\")\n",
    "sns.set(rc={\"figure.figsize\": (12.,6.)})\n",
    "sns.set_style(\"whitegrid\")\n"
   ]
  },
  {
   "cell_type": "code",
   "execution_count": null,
   "id": "34018f31",
   "metadata": {},
   "outputs": [],
   "source": [
    "#sns.countplot(x = df_population.Year)"
   ]
  },
  {
   "cell_type": "code",
   "execution_count": null,
   "id": "8979baee",
   "metadata": {},
   "outputs": [],
   "source": [
    "sns.histplot(x = df_population.Year)"
   ]
  },
  {
   "cell_type": "code",
   "execution_count": null,
   "id": "7408550e",
   "metadata": {},
   "outputs": [],
   "source": [
    "sns.lineplot(data=df_population, x=\"Population\", y=\"Year\")"
   ]
  },
  {
   "cell_type": "code",
   "execution_count": null,
   "id": "9f36854d",
   "metadata": {},
   "outputs": [],
   "source": [
    "final_df = pd.read_csv('../Data/final_df.csv')"
   ]
  },
  {
   "cell_type": "code",
   "execution_count": null,
   "id": "31d3d7f5",
   "metadata": {},
   "outputs": [],
   "source": [
    "display(final_df)"
   ]
  },
  {
   "cell_type": "code",
   "execution_count": null,
   "id": "14239890",
   "metadata": {},
   "outputs": [],
   "source": [
    "print(final_df.keys())"
   ]
  },
  {
   "cell_type": "code",
   "execution_count": null,
   "id": "70cdfc44",
   "metadata": {},
   "outputs": [],
   "source": [
    "(list(final_df.index)) "
   ]
  },
  {
   "cell_type": "code",
   "execution_count": null,
   "id": "b53e2142",
   "metadata": {},
   "outputs": [],
   "source": [
    "#final_df.drop('Unnamed: 0')"
   ]
  },
  {
   "cell_type": "code",
   "execution_count": null,
   "id": "9979b141",
   "metadata": {},
   "outputs": [],
   "source": [
    "population_temperature.keys()"
   ]
  },
  {
   "cell_type": "code",
   "execution_count": null,
   "id": "16ee70b2",
   "metadata": {},
   "outputs": [],
   "source": [
    "sns.scatterplot(x=\"Population\", y=\"Temperature\", data=final_df);"
   ]
  },
  {
   "cell_type": "code",
   "execution_count": 5,
   "id": "6002a749",
   "metadata": {},
   "outputs": [
    {
     "ename": "NameError",
     "evalue": "name 'final_df' is not defined",
     "output_type": "error",
     "traceback": [
      "\u001b[0;31m---------------------------------------------------------------------------\u001b[0m",
      "\u001b[0;31mNameError\u001b[0m                                 Traceback (most recent call last)",
      "\u001b[0;32m<ipython-input-5-20886cbd1baa>\u001b[0m in \u001b[0;36m<module>\u001b[0;34m\u001b[0m\n\u001b[0;32m----> 1\u001b[0;31m \u001b[0msns\u001b[0m\u001b[0;34m.\u001b[0m\u001b[0mlineplot\u001b[0m\u001b[0;34m(\u001b[0m\u001b[0mdata\u001b[0m\u001b[0;34m=\u001b[0m\u001b[0mfinal_df\u001b[0m\u001b[0;34m,\u001b[0m \u001b[0mx\u001b[0m\u001b[0;34m=\u001b[0m\u001b[0;34m\"Population\"\u001b[0m\u001b[0;34m,\u001b[0m \u001b[0my\u001b[0m\u001b[0;34m=\u001b[0m\u001b[0;34m\"Temperature\"\u001b[0m\u001b[0;34m)\u001b[0m\u001b[0;34m\u001b[0m\u001b[0;34m\u001b[0m\u001b[0m\n\u001b[0m",
      "\u001b[0;31mNameError\u001b[0m: name 'final_df' is not defined"
     ]
    }
   ],
   "source": [
    "sns.lineplot(data=final_df, x=\"Population\", y=\"Temperature\")"
   ]
  },
  {
   "cell_type": "code",
   "execution_count": null,
   "id": "6db569c3",
   "metadata": {},
   "outputs": [],
   "source": []
  }
 ],
 "metadata": {
  "kernelspec": {
   "display_name": "ironhack",
   "language": "python",
   "name": "ironhack"
  },
  "language_info": {
   "codemirror_mode": {
    "name": "ipython",
    "version": 3
   },
   "file_extension": ".py",
   "mimetype": "text/x-python",
   "name": "python",
   "nbconvert_exporter": "python",
   "pygments_lexer": "ipython3",
   "version": "3.8.5"
  }
 },
 "nbformat": 4,
 "nbformat_minor": 5
}
