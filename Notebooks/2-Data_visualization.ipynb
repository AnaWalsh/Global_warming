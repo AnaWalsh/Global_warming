{
 "cells": [
  {
   "cell_type": "markdown",
   "id": "21b97bdb",
   "metadata": {},
   "source": [
    "# Data Visualization"
   ]
  },
  {
   "cell_type": "markdown",
   "id": "56937ae5",
   "metadata": {},
   "source": [
    "## 1. Import libraries  and graphs configuration"
   ]
  },
  {
   "cell_type": "code",
   "execution_count": 1,
   "id": "a5aa55a2",
   "metadata": {},
   "outputs": [],
   "source": [
    "import pandas as pd\n",
    "import numpy as np\n",
    "from numpy import nan\n",
    "import re\n",
    "\n",
    "import seaborn as sns\n",
    "import matplotlib.pyplot as plt\n",
    "\n",
    "import os\n",
    "from dotenv import load_dotenv\n",
    "\n",
    "import requests"
   ]
  },
  {
   "cell_type": "code",
   "execution_count": 2,
   "id": "241e1e78",
   "metadata": {},
   "outputs": [],
   "source": [
    "# Configuration to set and default all Seaborn figures to a specific size.\n",
    "sns.set_context(\"poster\")\n",
    "sns.set(rc={\"figure.figsize\": (12.,6.)})\n",
    "sns.set_style(\"whitegrid\")"
   ]
  },
  {
   "cell_type": "code",
   "execution_count": 3,
   "id": "412cb076",
   "metadata": {},
   "outputs": [],
   "source": [
    "# We import our first DataFrame: df_population\n",
    "df_population = pd.read_csv('../Data/clean_WorldPopulation.csv')"
   ]
  },
  {
   "cell_type": "code",
   "execution_count": 4,
   "id": "3f4f4f41",
   "metadata": {},
   "outputs": [
    {
     "data": {
      "text/html": [
       "<div>\n",
       "<style scoped>\n",
       "    .dataframe tbody tr th:only-of-type {\n",
       "        vertical-align: middle;\n",
       "    }\n",
       "\n",
       "    .dataframe tbody tr th {\n",
       "        vertical-align: top;\n",
       "    }\n",
       "\n",
       "    .dataframe thead th {\n",
       "        text-align: right;\n",
       "    }\n",
       "</style>\n",
       "<table border=\"1\" class=\"dataframe\">\n",
       "  <thead>\n",
       "    <tr style=\"text-align: right;\">\n",
       "      <th></th>\n",
       "      <th>Year</th>\n",
       "      <th>Population</th>\n",
       "    </tr>\n",
       "  </thead>\n",
       "  <tbody>\n",
       "    <tr>\n",
       "      <th>0</th>\n",
       "      <td>2020</td>\n",
       "      <td>7794798739</td>\n",
       "    </tr>\n",
       "    <tr>\n",
       "      <th>1</th>\n",
       "      <td>2019</td>\n",
       "      <td>7713468100</td>\n",
       "    </tr>\n",
       "    <tr>\n",
       "      <th>2</th>\n",
       "      <td>2018</td>\n",
       "      <td>7631091040</td>\n",
       "    </tr>\n",
       "    <tr>\n",
       "      <th>3</th>\n",
       "      <td>2017</td>\n",
       "      <td>7547858925</td>\n",
       "    </tr>\n",
       "    <tr>\n",
       "      <th>4</th>\n",
       "      <td>2016</td>\n",
       "      <td>7464022049</td>\n",
       "    </tr>\n",
       "    <tr>\n",
       "      <th>...</th>\n",
       "      <td>...</td>\n",
       "      <td>...</td>\n",
       "    </tr>\n",
       "    <tr>\n",
       "      <th>65</th>\n",
       "      <td>1955</td>\n",
       "      <td>2773019936</td>\n",
       "    </tr>\n",
       "    <tr>\n",
       "      <th>66</th>\n",
       "      <td>1954</td>\n",
       "      <td>2724846741</td>\n",
       "    </tr>\n",
       "    <tr>\n",
       "      <th>67</th>\n",
       "      <td>1953</td>\n",
       "      <td>2677608960</td>\n",
       "    </tr>\n",
       "    <tr>\n",
       "      <th>68</th>\n",
       "      <td>1952</td>\n",
       "      <td>2630861562</td>\n",
       "    </tr>\n",
       "    <tr>\n",
       "      <th>69</th>\n",
       "      <td>1951</td>\n",
       "      <td>2584034261</td>\n",
       "    </tr>\n",
       "  </tbody>\n",
       "</table>\n",
       "<p>70 rows × 2 columns</p>\n",
       "</div>"
      ],
      "text/plain": [
       "    Year  Population\n",
       "0   2020  7794798739\n",
       "1   2019  7713468100\n",
       "2   2018  7631091040\n",
       "3   2017  7547858925\n",
       "4   2016  7464022049\n",
       "..   ...         ...\n",
       "65  1955  2773019936\n",
       "66  1954  2724846741\n",
       "67  1953  2677608960\n",
       "68  1952  2630861562\n",
       "69  1951  2584034261\n",
       "\n",
       "[70 rows x 2 columns]"
      ]
     },
     "metadata": {},
     "output_type": "display_data"
    }
   ],
   "source": [
    "display(df_population)"
   ]
  },
  {
   "cell_type": "code",
   "execution_count": 5,
   "id": "7408550e",
   "metadata": {},
   "outputs": [
    {
     "data": {
      "text/plain": [
       "<AxesSubplot:xlabel='Year', ylabel='Population'>"
      ]
     },
     "execution_count": 5,
     "metadata": {},
     "output_type": "execute_result"
    },
    {
     "data": {
      "image/png": "[encoded data removed]",
      "text/plain": [
       "<Figure size 864x432 with 1 Axes>"
      ]
     },
     "metadata": {},
     "output_type": "display_data"
    }
   ],
   "source": [
    "sns.lineplot(data=df_population, x='Year', y='Population')"
   ]
  },
  {
   "cell_type": "markdown",
   "id": "b216f0e2",
   "metadata": {},
   "source": [
    "This graph shows how the population in the world has grown significantly since the 1950s to year 2020. "
   ]
  },
  {
   "cell_type": "code",
   "execution_count": 6,
   "id": "c72a73f1",
   "metadata": {},
   "outputs": [],
   "source": [
    "# We import a df about population growth, that also includes data regarding ocean temperatura in the last decades. \n",
    "final_df = pd.read_csv('../Data/final_df.csv')"
   ]
  },
  {
   "cell_type": "code",
   "execution_count": 7,
   "id": "a4a728b0",
   "metadata": {},
   "outputs": [
    {
     "data": {
      "text/html": [
       "<div>\n",
       "<style scoped>\n",
       "    .dataframe tbody tr th:only-of-type {\n",
       "        vertical-align: middle;\n",
       "    }\n",
       "\n",
       "    .dataframe tbody tr th {\n",
       "        vertical-align: top;\n",
       "    }\n",
       "\n",
       "    .dataframe thead th {\n",
       "        text-align: right;\n",
       "    }\n",
       "</style>\n",
       "<table border=\"1\" class=\"dataframe\">\n",
       "  <thead>\n",
       "    <tr style=\"text-align: right;\">\n",
       "      <th></th>\n",
       "      <th>Unnamed: 0</th>\n",
       "      <th>Decade</th>\n",
       "      <th>Temperature</th>\n",
       "      <th>Population</th>\n",
       "    </tr>\n",
       "  </thead>\n",
       "  <tbody>\n",
       "    <tr>\n",
       "      <th>0</th>\n",
       "      <td>0</td>\n",
       "      <td>1950</td>\n",
       "      <td>13.98</td>\n",
       "      <td>2445756393</td>\n",
       "    </tr>\n",
       "    <tr>\n",
       "      <th>1</th>\n",
       "      <td>1</td>\n",
       "      <td>1960</td>\n",
       "      <td>13.99</td>\n",
       "      <td>2954006871</td>\n",
       "    </tr>\n",
       "    <tr>\n",
       "      <th>2</th>\n",
       "      <td>2</td>\n",
       "      <td>1970</td>\n",
       "      <td>14.00</td>\n",
       "      <td>3602760834</td>\n",
       "    </tr>\n",
       "    <tr>\n",
       "      <th>3</th>\n",
       "      <td>3</td>\n",
       "      <td>1980</td>\n",
       "      <td>14.18</td>\n",
       "      <td>4312540555</td>\n",
       "    </tr>\n",
       "    <tr>\n",
       "      <th>4</th>\n",
       "      <td>4</td>\n",
       "      <td>1990</td>\n",
       "      <td>14.31</td>\n",
       "      <td>5094413294</td>\n",
       "    </tr>\n",
       "    <tr>\n",
       "      <th>5</th>\n",
       "      <td>5</td>\n",
       "      <td>2000</td>\n",
       "      <td>14.51</td>\n",
       "      <td>5817069827</td>\n",
       "    </tr>\n",
       "  </tbody>\n",
       "</table>\n",
       "</div>"
      ],
      "text/plain": [
       "   Unnamed: 0  Decade  Temperature  Population\n",
       "0           0    1950        13.98  2445756393\n",
       "1           1    1960        13.99  2954006871\n",
       "2           2    1970        14.00  3602760834\n",
       "3           3    1980        14.18  4312540555\n",
       "4           4    1990        14.31  5094413294\n",
       "5           5    2000        14.51  5817069827"
      ]
     },
     "metadata": {},
     "output_type": "display_data"
    }
   ],
   "source": [
    "display(final_df)"
   ]
  },
  {
   "cell_type": "code",
   "execution_count": 8,
   "id": "fdd4a904",
   "metadata": {},
   "outputs": [],
   "source": [
    "#sns.countplot(x = df_population.Year)"
   ]
  },
  {
   "cell_type": "code",
   "execution_count": 9,
   "id": "005467c4",
   "metadata": {},
   "outputs": [
    {
     "data": {
      "text/plain": [
       "<AxesSubplot:xlabel='Decade', ylabel='Temperature'>"
      ]
     },
     "execution_count": 9,
     "metadata": {},
     "output_type": "execute_result"
    },
    {
     "data": {
      "image/png": "[encoded data removed]",
      "text/plain": [
       "<Figure size 864x432 with 1 Axes>"
      ]
     },
     "metadata": {},
     "output_type": "display_data"
    }
   ],
   "source": [
    "sns.lineplot(data=final_df, x=\"Decade\", y=\"Temperature\")"
   ]
  },
  {
   "cell_type": "markdown",
   "id": "bedcd1a5",
   "metadata": {},
   "source": [
    "This graph shows how the temperature of the oceans has increased significantly since de 70s. "
   ]
  },
  {
   "cell_type": "code",
   "execution_count": 10,
   "id": "16ee70b2",
   "metadata": {},
   "outputs": [
    {
     "data": {
      "image/png": "[encoded data removed]",
      "text/plain": [
       "<Figure size 864x432 with 1 Axes>"
      ]
     },
     "metadata": {},
     "output_type": "display_data"
    }
   ],
   "source": [
    "sns.scatterplot(x=\"Population\", y=\"Temperature\", data=final_df);"
   ]
  },
  {
   "cell_type": "code",
   "execution_count": 11,
   "id": "6002a749",
   "metadata": {},
   "outputs": [
    {
     "data": {
      "text/plain": [
       "<AxesSubplot:xlabel='Population', ylabel='Temperature'>"
      ]
     },
     "execution_count": 11,
     "metadata": {},
     "output_type": "execute_result"
    },
    {
     "data": {
      "image/png": "[encoded data removed]",
      "text/plain": [
       "<Figure size 864x432 with 1 Axes>"
      ]
     },
     "metadata": {},
     "output_type": "display_data"
    }
   ],
   "source": [
    "sns.lineplot(data=final_df, x=\"Population\", y=\"Temperature\")"
   ]
  },
  {
   "cell_type": "markdown",
   "id": "b72931e2",
   "metadata": {},
   "source": [
    "In both graphs we can see how the values of temperature of the oceans rises along with the population growth. "
   ]
  },
  {
   "cell_type": "code",
   "execution_count": 12,
   "id": "c897e27d",
   "metadata": {},
   "outputs": [
    {
     "data": {
      "text/plain": [
       "'/Users/awalsh/IRONHACK/PROYECTOS/W3-pipelines-project/Notebooks'"
      ]
     },
     "execution_count": 12,
     "metadata": {},
     "output_type": "execute_result"
    }
   ],
   "source": [
    "pwd"
   ]
  },
  {
   "cell_type": "markdown",
   "id": "90367ac9",
   "metadata": {},
   "source": [
    "We import another df that includes information about the concentration of CO2 over the years. "
   ]
  },
  {
   "cell_type": "code",
   "execution_count": 13,
   "id": "e5a1ea2a",
   "metadata": {},
   "outputs": [],
   "source": [
    "df_co2 = pd.read_csv('../Data/df_co2.csv')"
   ]
  },
  {
   "cell_type": "code",
   "execution_count": 14,
   "id": "4a1ec1d1",
   "metadata": {},
   "outputs": [],
   "source": [
    "df_co2[\"Day\"] = pd.to_datetime(df_co2['Day'], format='%Y-%m-%d')\n",
    "# %Y-%m-%d\n"
   ]
  },
  {
   "cell_type": "code",
   "execution_count": 15,
   "id": "dca9bff4",
   "metadata": {
    "scrolled": true
   },
   "outputs": [
    {
     "name": "stdout",
     "output_type": "stream",
     "text": [
      "<class 'pandas.core.frame.DataFrame'>\n",
      "RangeIndex: 499 entries, 0 to 498\n",
      "Data columns (total 3 columns):\n",
      " #   Column                      Non-Null Count  Dtype         \n",
      "---  ------                      --------------  -----         \n",
      " 0   Entity                      499 non-null    object        \n",
      " 1   Day                         499 non-null    datetime64[ns]\n",
      " 2   average_co2_concentrations  499 non-null    float64       \n",
      "dtypes: datetime64[ns](1), float64(1), object(1)\n",
      "memory usage: 11.8+ KB\n"
     ]
    }
   ],
   "source": [
    "df_co2.info()"
   ]
  },
  {
   "cell_type": "code",
   "execution_count": 16,
   "id": "f41a289c",
   "metadata": {},
   "outputs": [],
   "source": [
    "df_co2['year'] = pd.DatetimeIndex(df_co2['Day']).year\n",
    "df_co2['month'] = pd.DatetimeIndex(df_co2['Day']).month"
   ]
  },
  {
   "cell_type": "code",
   "execution_count": 17,
   "id": "9d8ab855",
   "metadata": {},
   "outputs": [
    {
     "data": {
      "text/html": [
       "<div>\n",
       "<style scoped>\n",
       "    .dataframe tbody tr th:only-of-type {\n",
       "        vertical-align: middle;\n",
       "    }\n",
       "\n",
       "    .dataframe tbody tr th {\n",
       "        vertical-align: top;\n",
       "    }\n",
       "\n",
       "    .dataframe thead th {\n",
       "        text-align: right;\n",
       "    }\n",
       "</style>\n",
       "<table border=\"1\" class=\"dataframe\">\n",
       "  <thead>\n",
       "    <tr style=\"text-align: right;\">\n",
       "      <th></th>\n",
       "      <th>Entity</th>\n",
       "      <th>Day</th>\n",
       "      <th>average_co2_concentrations</th>\n",
       "      <th>year</th>\n",
       "      <th>month</th>\n",
       "    </tr>\n",
       "  </thead>\n",
       "  <tbody>\n",
       "    <tr>\n",
       "      <th>0</th>\n",
       "      <td>World</td>\n",
       "      <td>1980-01-15</td>\n",
       "      <td>338.55</td>\n",
       "      <td>1980</td>\n",
       "      <td>1</td>\n",
       "    </tr>\n",
       "    <tr>\n",
       "      <th>1</th>\n",
       "      <td>World</td>\n",
       "      <td>1980-02-15</td>\n",
       "      <td>339.27</td>\n",
       "      <td>1980</td>\n",
       "      <td>2</td>\n",
       "    </tr>\n",
       "    <tr>\n",
       "      <th>2</th>\n",
       "      <td>World</td>\n",
       "      <td>1980-03-15</td>\n",
       "      <td>339.60</td>\n",
       "      <td>1980</td>\n",
       "      <td>3</td>\n",
       "    </tr>\n",
       "    <tr>\n",
       "      <th>3</th>\n",
       "      <td>World</td>\n",
       "      <td>1980-04-15</td>\n",
       "      <td>340.00</td>\n",
       "      <td>1980</td>\n",
       "      <td>4</td>\n",
       "    </tr>\n",
       "    <tr>\n",
       "      <th>4</th>\n",
       "      <td>World</td>\n",
       "      <td>1980-05-15</td>\n",
       "      <td>340.43</td>\n",
       "      <td>1980</td>\n",
       "      <td>5</td>\n",
       "    </tr>\n",
       "    <tr>\n",
       "      <th>5</th>\n",
       "      <td>World</td>\n",
       "      <td>1980-06-15</td>\n",
       "      <td>339.99</td>\n",
       "      <td>1980</td>\n",
       "      <td>6</td>\n",
       "    </tr>\n",
       "    <tr>\n",
       "      <th>6</th>\n",
       "      <td>World</td>\n",
       "      <td>1980-07-15</td>\n",
       "      <td>338.44</td>\n",
       "      <td>1980</td>\n",
       "      <td>7</td>\n",
       "    </tr>\n",
       "    <tr>\n",
       "      <th>7</th>\n",
       "      <td>World</td>\n",
       "      <td>1980-08-15</td>\n",
       "      <td>337.21</td>\n",
       "      <td>1980</td>\n",
       "      <td>8</td>\n",
       "    </tr>\n",
       "    <tr>\n",
       "      <th>8</th>\n",
       "      <td>World</td>\n",
       "      <td>1980-09-15</td>\n",
       "      <td>337.05</td>\n",
       "      <td>1980</td>\n",
       "      <td>9</td>\n",
       "    </tr>\n",
       "    <tr>\n",
       "      <th>9</th>\n",
       "      <td>World</td>\n",
       "      <td>1980-10-15</td>\n",
       "      <td>337.83</td>\n",
       "      <td>1980</td>\n",
       "      <td>10</td>\n",
       "    </tr>\n",
       "    <tr>\n",
       "      <th>10</th>\n",
       "      <td>World</td>\n",
       "      <td>1980-11-15</td>\n",
       "      <td>338.93</td>\n",
       "      <td>1980</td>\n",
       "      <td>11</td>\n",
       "    </tr>\n",
       "    <tr>\n",
       "      <th>11</th>\n",
       "      <td>World</td>\n",
       "      <td>1980-12-15</td>\n",
       "      <td>339.64</td>\n",
       "      <td>1980</td>\n",
       "      <td>12</td>\n",
       "    </tr>\n",
       "    <tr>\n",
       "      <th>12</th>\n",
       "      <td>World</td>\n",
       "      <td>1981-01-15</td>\n",
       "      <td>340.18</td>\n",
       "      <td>1981</td>\n",
       "      <td>1</td>\n",
       "    </tr>\n",
       "    <tr>\n",
       "      <th>13</th>\n",
       "      <td>World</td>\n",
       "      <td>1981-02-15</td>\n",
       "      <td>340.74</td>\n",
       "      <td>1981</td>\n",
       "      <td>2</td>\n",
       "    </tr>\n",
       "    <tr>\n",
       "      <th>14</th>\n",
       "      <td>World</td>\n",
       "      <td>1981-03-15</td>\n",
       "      <td>341.38</td>\n",
       "      <td>1981</td>\n",
       "      <td>3</td>\n",
       "    </tr>\n",
       "    <tr>\n",
       "      <th>15</th>\n",
       "      <td>World</td>\n",
       "      <td>1981-04-15</td>\n",
       "      <td>341.68</td>\n",
       "      <td>1981</td>\n",
       "      <td>4</td>\n",
       "    </tr>\n",
       "    <tr>\n",
       "      <th>16</th>\n",
       "      <td>World</td>\n",
       "      <td>1981-05-15</td>\n",
       "      <td>341.43</td>\n",
       "      <td>1981</td>\n",
       "      <td>5</td>\n",
       "    </tr>\n",
       "    <tr>\n",
       "      <th>17</th>\n",
       "      <td>World</td>\n",
       "      <td>1981-06-15</td>\n",
       "      <td>340.62</td>\n",
       "      <td>1981</td>\n",
       "      <td>6</td>\n",
       "    </tr>\n",
       "    <tr>\n",
       "      <th>18</th>\n",
       "      <td>World</td>\n",
       "      <td>1981-07-15</td>\n",
       "      <td>339.22</td>\n",
       "      <td>1981</td>\n",
       "      <td>7</td>\n",
       "    </tr>\n",
       "    <tr>\n",
       "      <th>19</th>\n",
       "      <td>World</td>\n",
       "      <td>1981-08-15</td>\n",
       "      <td>338.06</td>\n",
       "      <td>1981</td>\n",
       "      <td>8</td>\n",
       "    </tr>\n",
       "    <tr>\n",
       "      <th>20</th>\n",
       "      <td>World</td>\n",
       "      <td>1981-09-15</td>\n",
       "      <td>337.97</td>\n",
       "      <td>1981</td>\n",
       "      <td>9</td>\n",
       "    </tr>\n",
       "    <tr>\n",
       "      <th>21</th>\n",
       "      <td>World</td>\n",
       "      <td>1981-10-15</td>\n",
       "      <td>339.07</td>\n",
       "      <td>1981</td>\n",
       "      <td>10</td>\n",
       "    </tr>\n",
       "    <tr>\n",
       "      <th>22</th>\n",
       "      <td>World</td>\n",
       "      <td>1981-11-15</td>\n",
       "      <td>340.17</td>\n",
       "      <td>1981</td>\n",
       "      <td>11</td>\n",
       "    </tr>\n",
       "    <tr>\n",
       "      <th>23</th>\n",
       "      <td>World</td>\n",
       "      <td>1981-12-15</td>\n",
       "      <td>340.74</td>\n",
       "      <td>1981</td>\n",
       "      <td>12</td>\n",
       "    </tr>\n",
       "    <tr>\n",
       "      <th>24</th>\n",
       "      <td>World</td>\n",
       "      <td>1982-01-15</td>\n",
       "      <td>341.37</td>\n",
       "      <td>1982</td>\n",
       "      <td>1</td>\n",
       "    </tr>\n",
       "    <tr>\n",
       "      <th>25</th>\n",
       "      <td>World</td>\n",
       "      <td>1982-02-15</td>\n",
       "      <td>341.95</td>\n",
       "      <td>1982</td>\n",
       "      <td>2</td>\n",
       "    </tr>\n",
       "    <tr>\n",
       "      <th>26</th>\n",
       "      <td>World</td>\n",
       "      <td>1982-03-15</td>\n",
       "      <td>342.23</td>\n",
       "      <td>1982</td>\n",
       "      <td>3</td>\n",
       "    </tr>\n",
       "    <tr>\n",
       "      <th>27</th>\n",
       "      <td>World</td>\n",
       "      <td>1982-04-15</td>\n",
       "      <td>342.52</td>\n",
       "      <td>1982</td>\n",
       "      <td>4</td>\n",
       "    </tr>\n",
       "    <tr>\n",
       "      <th>28</th>\n",
       "      <td>World</td>\n",
       "      <td>1982-05-15</td>\n",
       "      <td>342.36</td>\n",
       "      <td>1982</td>\n",
       "      <td>5</td>\n",
       "    </tr>\n",
       "    <tr>\n",
       "      <th>29</th>\n",
       "      <td>World</td>\n",
       "      <td>1982-06-15</td>\n",
       "      <td>341.49</td>\n",
       "      <td>1982</td>\n",
       "      <td>6</td>\n",
       "    </tr>\n",
       "  </tbody>\n",
       "</table>\n",
       "</div>"
      ],
      "text/plain": [
       "   Entity        Day  average_co2_concentrations  year  month\n",
       "0   World 1980-01-15                      338.55  1980      1\n",
       "1   World 1980-02-15                      339.27  1980      2\n",
       "2   World 1980-03-15                      339.60  1980      3\n",
       "3   World 1980-04-15                      340.00  1980      4\n",
       "4   World 1980-05-15                      340.43  1980      5\n",
       "5   World 1980-06-15                      339.99  1980      6\n",
       "6   World 1980-07-15                      338.44  1980      7\n",
       "7   World 1980-08-15                      337.21  1980      8\n",
       "8   World 1980-09-15                      337.05  1980      9\n",
       "9   World 1980-10-15                      337.83  1980     10\n",
       "10  World 1980-11-15                      338.93  1980     11\n",
       "11  World 1980-12-15                      339.64  1980     12\n",
       "12  World 1981-01-15                      340.18  1981      1\n",
       "13  World 1981-02-15                      340.74  1981      2\n",
       "14  World 1981-03-15                      341.38  1981      3\n",
       "15  World 1981-04-15                      341.68  1981      4\n",
       "16  World 1981-05-15                      341.43  1981      5\n",
       "17  World 1981-06-15                      340.62  1981      6\n",
       "18  World 1981-07-15                      339.22  1981      7\n",
       "19  World 1981-08-15                      338.06  1981      8\n",
       "20  World 1981-09-15                      337.97  1981      9\n",
       "21  World 1981-10-15                      339.07  1981     10\n",
       "22  World 1981-11-15                      340.17  1981     11\n",
       "23  World 1981-12-15                      340.74  1981     12\n",
       "24  World 1982-01-15                      341.37  1982      1\n",
       "25  World 1982-02-15                      341.95  1982      2\n",
       "26  World 1982-03-15                      342.23  1982      3\n",
       "27  World 1982-04-15                      342.52  1982      4\n",
       "28  World 1982-05-15                      342.36  1982      5\n",
       "29  World 1982-06-15                      341.49  1982      6"
      ]
     },
     "execution_count": 17,
     "metadata": {},
     "output_type": "execute_result"
    }
   ],
   "source": [
    "df_co2.head(30)"
   ]
  },
  {
   "cell_type": "code",
   "execution_count": 18,
   "id": "ef4f43c2",
   "metadata": {},
   "outputs": [
    {
     "name": "stdout",
     "output_type": "stream",
     "text": [
      "<class 'pandas.core.frame.DataFrame'>\n",
      "RangeIndex: 499 entries, 0 to 498\n",
      "Data columns (total 5 columns):\n",
      " #   Column                      Non-Null Count  Dtype         \n",
      "---  ------                      --------------  -----         \n",
      " 0   Entity                      499 non-null    object        \n",
      " 1   Day                         499 non-null    datetime64[ns]\n",
      " 2   average_co2_concentrations  499 non-null    float64       \n",
      " 3   year                        499 non-null    int64         \n",
      " 4   month                       499 non-null    int64         \n",
      "dtypes: datetime64[ns](1), float64(1), int64(2), object(1)\n",
      "memory usage: 19.6+ KB\n"
     ]
    }
   ],
   "source": [
    "df_co2.info()"
   ]
  },
  {
   "cell_type": "code",
   "execution_count": 19,
   "id": "b5edc2de",
   "metadata": {},
   "outputs": [
    {
     "data": {
      "text/html": [
       "<div>\n",
       "<style scoped>\n",
       "    .dataframe tbody tr th:only-of-type {\n",
       "        vertical-align: middle;\n",
       "    }\n",
       "\n",
       "    .dataframe tbody tr th {\n",
       "        vertical-align: top;\n",
       "    }\n",
       "\n",
       "    .dataframe thead th {\n",
       "        text-align: right;\n",
       "    }\n",
       "</style>\n",
       "<table border=\"1\" class=\"dataframe\">\n",
       "  <thead>\n",
       "    <tr style=\"text-align: right;\">\n",
       "      <th></th>\n",
       "      <th>Entity</th>\n",
       "      <th>Day</th>\n",
       "      <th>average_co2_concentrations</th>\n",
       "      <th>year</th>\n",
       "      <th>month</th>\n",
       "    </tr>\n",
       "  </thead>\n",
       "  <tbody>\n",
       "    <tr>\n",
       "      <th>0</th>\n",
       "      <td>World</td>\n",
       "      <td>1980-01-15</td>\n",
       "      <td>338.55</td>\n",
       "      <td>1980</td>\n",
       "      <td>1</td>\n",
       "    </tr>\n",
       "    <tr>\n",
       "      <th>1</th>\n",
       "      <td>World</td>\n",
       "      <td>1980-02-15</td>\n",
       "      <td>339.27</td>\n",
       "      <td>1980</td>\n",
       "      <td>2</td>\n",
       "    </tr>\n",
       "    <tr>\n",
       "      <th>2</th>\n",
       "      <td>World</td>\n",
       "      <td>1980-03-15</td>\n",
       "      <td>339.60</td>\n",
       "      <td>1980</td>\n",
       "      <td>3</td>\n",
       "    </tr>\n",
       "    <tr>\n",
       "      <th>3</th>\n",
       "      <td>World</td>\n",
       "      <td>1980-04-15</td>\n",
       "      <td>340.00</td>\n",
       "      <td>1980</td>\n",
       "      <td>4</td>\n",
       "    </tr>\n",
       "    <tr>\n",
       "      <th>4</th>\n",
       "      <td>World</td>\n",
       "      <td>1980-05-15</td>\n",
       "      <td>340.43</td>\n",
       "      <td>1980</td>\n",
       "      <td>5</td>\n",
       "    </tr>\n",
       "    <tr>\n",
       "      <th>...</th>\n",
       "      <td>...</td>\n",
       "      <td>...</td>\n",
       "      <td>...</td>\n",
       "      <td>...</td>\n",
       "      <td>...</td>\n",
       "    </tr>\n",
       "    <tr>\n",
       "      <th>494</th>\n",
       "      <td>World</td>\n",
       "      <td>2021-03-15</td>\n",
       "      <td>415.61</td>\n",
       "      <td>2021</td>\n",
       "      <td>3</td>\n",
       "    </tr>\n",
       "    <tr>\n",
       "      <th>495</th>\n",
       "      <td>World</td>\n",
       "      <td>2021-04-15</td>\n",
       "      <td>415.93</td>\n",
       "      <td>2021</td>\n",
       "      <td>4</td>\n",
       "    </tr>\n",
       "    <tr>\n",
       "      <th>496</th>\n",
       "      <td>World</td>\n",
       "      <td>2021-05-15</td>\n",
       "      <td>416.12</td>\n",
       "      <td>2021</td>\n",
       "      <td>5</td>\n",
       "    </tr>\n",
       "    <tr>\n",
       "      <th>497</th>\n",
       "      <td>World</td>\n",
       "      <td>2021-06-15</td>\n",
       "      <td>415.34</td>\n",
       "      <td>2021</td>\n",
       "      <td>6</td>\n",
       "    </tr>\n",
       "    <tr>\n",
       "      <th>498</th>\n",
       "      <td>World</td>\n",
       "      <td>2021-07-15</td>\n",
       "      <td>413.73</td>\n",
       "      <td>2021</td>\n",
       "      <td>7</td>\n",
       "    </tr>\n",
       "  </tbody>\n",
       "</table>\n",
       "<p>499 rows × 5 columns</p>\n",
       "</div>"
      ],
      "text/plain": [
       "    Entity        Day  average_co2_concentrations  year  month\n",
       "0    World 1980-01-15                      338.55  1980      1\n",
       "1    World 1980-02-15                      339.27  1980      2\n",
       "2    World 1980-03-15                      339.60  1980      3\n",
       "3    World 1980-04-15                      340.00  1980      4\n",
       "4    World 1980-05-15                      340.43  1980      5\n",
       "..     ...        ...                         ...   ...    ...\n",
       "494  World 2021-03-15                      415.61  2021      3\n",
       "495  World 2021-04-15                      415.93  2021      4\n",
       "496  World 2021-05-15                      416.12  2021      5\n",
       "497  World 2021-06-15                      415.34  2021      6\n",
       "498  World 2021-07-15                      413.73  2021      7\n",
       "\n",
       "[499 rows x 5 columns]"
      ]
     },
     "execution_count": 19,
     "metadata": {},
     "output_type": "execute_result"
    }
   ],
   "source": [
    "df_co2.astype({'year':int})"
   ]
  },
  {
   "cell_type": "code",
   "execution_count": 20,
   "id": "3e026781",
   "metadata": {},
   "outputs": [
    {
     "data": {
      "text/html": [
       "<div>\n",
       "<style scoped>\n",
       "    .dataframe tbody tr th:only-of-type {\n",
       "        vertical-align: middle;\n",
       "    }\n",
       "\n",
       "    .dataframe tbody tr th {\n",
       "        vertical-align: top;\n",
       "    }\n",
       "\n",
       "    .dataframe thead th {\n",
       "        text-align: right;\n",
       "    }\n",
       "</style>\n",
       "<table border=\"1\" class=\"dataframe\">\n",
       "  <thead>\n",
       "    <tr style=\"text-align: right;\">\n",
       "      <th></th>\n",
       "      <th>year</th>\n",
       "      <th>average_co2_concentrations</th>\n",
       "    </tr>\n",
       "  </thead>\n",
       "  <tbody>\n",
       "    <tr>\n",
       "      <th>0</th>\n",
       "      <td>1980</td>\n",
       "      <td>338.911667</td>\n",
       "    </tr>\n",
       "    <tr>\n",
       "      <th>1</th>\n",
       "      <td>1981</td>\n",
       "      <td>340.105000</td>\n",
       "    </tr>\n",
       "    <tr>\n",
       "      <th>2</th>\n",
       "      <td>1982</td>\n",
       "      <td>340.856667</td>\n",
       "    </tr>\n",
       "    <tr>\n",
       "      <th>3</th>\n",
       "      <td>1983</td>\n",
       "      <td>342.530833</td>\n",
       "    </tr>\n",
       "    <tr>\n",
       "      <th>4</th>\n",
       "      <td>1984</td>\n",
       "      <td>344.074167</td>\n",
       "    </tr>\n",
       "  </tbody>\n",
       "</table>\n",
       "</div>"
      ],
      "text/plain": [
       "   year  average_co2_concentrations\n",
       "0  1980                  338.911667\n",
       "1  1981                  340.105000\n",
       "2  1982                  340.856667\n",
       "3  1983                  342.530833\n",
       "4  1984                  344.074167"
      ]
     },
     "execution_count": 20,
     "metadata": {},
     "output_type": "execute_result"
    }
   ],
   "source": [
    "\n",
    "df_grouped = pd.DataFrame(df_co2.groupby(\"year\")[\"average_co2_concentrations\"].mean()).reset_index()\n",
    "df_grouped.head()"
   ]
  },
  {
   "cell_type": "code",
   "execution_count": 21,
   "id": "f06f428c",
   "metadata": {},
   "outputs": [],
   "source": [
    "df_grouped2 = df_grouped[(df_grouped.year > 1950) & (df_grouped.year <= 2000)]"
   ]
  },
  {
   "cell_type": "code",
   "execution_count": 22,
   "id": "54f343db",
   "metadata": {},
   "outputs": [
    {
     "data": {
      "text/plain": [
       "pandas.core.frame.DataFrame"
      ]
     },
     "execution_count": 22,
     "metadata": {},
     "output_type": "execute_result"
    }
   ],
   "source": [
    "type(df_grouped2)"
   ]
  },
  {
   "cell_type": "code",
   "execution_count": 23,
   "id": "d7964d4e",
   "metadata": {},
   "outputs": [
    {
     "data": {
      "text/html": [
       "<div>\n",
       "<style scoped>\n",
       "    .dataframe tbody tr th:only-of-type {\n",
       "        vertical-align: middle;\n",
       "    }\n",
       "\n",
       "    .dataframe tbody tr th {\n",
       "        vertical-align: top;\n",
       "    }\n",
       "\n",
       "    .dataframe thead th {\n",
       "        text-align: right;\n",
       "    }\n",
       "</style>\n",
       "<table border=\"1\" class=\"dataframe\">\n",
       "  <thead>\n",
       "    <tr style=\"text-align: right;\">\n",
       "      <th></th>\n",
       "      <th>year</th>\n",
       "      <th>average_co2_concentrations</th>\n",
       "    </tr>\n",
       "  </thead>\n",
       "  <tbody>\n",
       "    <tr>\n",
       "      <th>0</th>\n",
       "      <td>1980</td>\n",
       "      <td>338.911667</td>\n",
       "    </tr>\n",
       "    <tr>\n",
       "      <th>1</th>\n",
       "      <td>1981</td>\n",
       "      <td>340.105000</td>\n",
       "    </tr>\n",
       "    <tr>\n",
       "      <th>2</th>\n",
       "      <td>1982</td>\n",
       "      <td>340.856667</td>\n",
       "    </tr>\n",
       "    <tr>\n",
       "      <th>3</th>\n",
       "      <td>1983</td>\n",
       "      <td>342.530833</td>\n",
       "    </tr>\n",
       "    <tr>\n",
       "      <th>4</th>\n",
       "      <td>1984</td>\n",
       "      <td>344.074167</td>\n",
       "    </tr>\n",
       "    <tr>\n",
       "      <th>5</th>\n",
       "      <td>1985</td>\n",
       "      <td>345.544167</td>\n",
       "    </tr>\n",
       "    <tr>\n",
       "      <th>6</th>\n",
       "      <td>1986</td>\n",
       "      <td>346.965833</td>\n",
       "    </tr>\n",
       "    <tr>\n",
       "      <th>7</th>\n",
       "      <td>1987</td>\n",
       "      <td>348.674167</td>\n",
       "    </tr>\n",
       "    <tr>\n",
       "      <th>8</th>\n",
       "      <td>1988</td>\n",
       "      <td>351.159167</td>\n",
       "    </tr>\n",
       "    <tr>\n",
       "      <th>9</th>\n",
       "      <td>1989</td>\n",
       "      <td>352.782500</td>\n",
       "    </tr>\n",
       "    <tr>\n",
       "      <th>10</th>\n",
       "      <td>1990</td>\n",
       "      <td>354.053333</td>\n",
       "    </tr>\n",
       "    <tr>\n",
       "      <th>11</th>\n",
       "      <td>1991</td>\n",
       "      <td>355.394167</td>\n",
       "    </tr>\n",
       "    <tr>\n",
       "      <th>12</th>\n",
       "      <td>1992</td>\n",
       "      <td>356.093333</td>\n",
       "    </tr>\n",
       "    <tr>\n",
       "      <th>13</th>\n",
       "      <td>1993</td>\n",
       "      <td>356.833333</td>\n",
       "    </tr>\n",
       "    <tr>\n",
       "      <th>14</th>\n",
       "      <td>1994</td>\n",
       "      <td>358.330833</td>\n",
       "    </tr>\n",
       "    <tr>\n",
       "      <th>15</th>\n",
       "      <td>1995</td>\n",
       "      <td>360.172500</td>\n",
       "    </tr>\n",
       "    <tr>\n",
       "      <th>16</th>\n",
       "      <td>1996</td>\n",
       "      <td>361.932500</td>\n",
       "    </tr>\n",
       "    <tr>\n",
       "      <th>17</th>\n",
       "      <td>1997</td>\n",
       "      <td>363.046667</td>\n",
       "    </tr>\n",
       "    <tr>\n",
       "      <th>18</th>\n",
       "      <td>1998</td>\n",
       "      <td>365.697500</td>\n",
       "    </tr>\n",
       "    <tr>\n",
       "      <th>19</th>\n",
       "      <td>1999</td>\n",
       "      <td>367.796667</td>\n",
       "    </tr>\n",
       "    <tr>\n",
       "      <th>20</th>\n",
       "      <td>2000</td>\n",
       "      <td>368.965000</td>\n",
       "    </tr>\n",
       "  </tbody>\n",
       "</table>\n",
       "</div>"
      ],
      "text/plain": [
       "    year  average_co2_concentrations\n",
       "0   1980                  338.911667\n",
       "1   1981                  340.105000\n",
       "2   1982                  340.856667\n",
       "3   1983                  342.530833\n",
       "4   1984                  344.074167\n",
       "5   1985                  345.544167\n",
       "6   1986                  346.965833\n",
       "7   1987                  348.674167\n",
       "8   1988                  351.159167\n",
       "9   1989                  352.782500\n",
       "10  1990                  354.053333\n",
       "11  1991                  355.394167\n",
       "12  1992                  356.093333\n",
       "13  1993                  356.833333\n",
       "14  1994                  358.330833\n",
       "15  1995                  360.172500\n",
       "16  1996                  361.932500\n",
       "17  1997                  363.046667\n",
       "18  1998                  365.697500\n",
       "19  1999                  367.796667\n",
       "20  2000                  368.965000"
      ]
     },
     "execution_count": 23,
     "metadata": {},
     "output_type": "execute_result"
    }
   ],
   "source": [
    "# At this state we have grouped the average_co2_concentration by year.\n",
    "df_grouped2"
   ]
  },
  {
   "cell_type": "code",
   "execution_count": 24,
   "id": "94b99984",
   "metadata": {},
   "outputs": [
    {
     "data": {
      "image/png": "[encoded data removed]",
      "text/plain": [
       "<Figure size 864x432 with 1 Axes>"
      ]
     },
     "metadata": {},
     "output_type": "display_data"
    }
   ],
   "source": [
    "barplot = sns.barplot(x='year', y='average_co2_concentrations', data=df_grouped2);"
   ]
  },
  {
   "cell_type": "code",
   "execution_count": 25,
   "id": "8e3a8c59",
   "metadata": {},
   "outputs": [
    {
     "data": {
      "text/plain": [
       "<AxesSubplot:xlabel='year', ylabel='average_co2_concentrations'>"
      ]
     },
     "execution_count": 25,
     "metadata": {},
     "output_type": "execute_result"
    },
    {
     "data": {
      "image/png": "[encoded data removed]",
      "text/plain": [
       "<Figure size 864x432 with 1 Axes>"
      ]
     },
     "metadata": {},
     "output_type": "display_data"
    }
   ],
   "source": [
    "sns.lineplot(data=df_grouped2, x=\"year\", y='average_co2_concentrations')"
   ]
  },
  {
   "cell_type": "markdown",
   "id": "b02b20e5",
   "metadata": {},
   "source": [
    "Both of the graphs we can see above show how the average of CO2 concentration has grown significantly in the last decades. "
   ]
  }
 ],
 "metadata": {
  "kernelspec": {
   "display_name": "ironhack",
   "language": "python",
   "name": "ironhack"
  },
  "language_info": {
   "codemirror_mode": {
    "name": "ipython",
    "version": 3
   },
   "file_extension": ".py",
   "mimetype": "text/x-python",
   "name": "python",
   "nbconvert_exporter": "python",
   "pygments_lexer": "ipython3",
   "version": "3.8.5"
  }
 },
 "nbformat": 4,
 "nbformat_minor": 5
}
